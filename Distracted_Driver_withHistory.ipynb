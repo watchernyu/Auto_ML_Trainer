{
 "cells": [
  {
   "cell_type": "code",
   "execution_count": 2,
   "metadata": {},
   "outputs": [
    {
     "name": "stdout",
     "output_type": "stream",
     "text": [
      "\n"
     ]
    }
   ],
   "source": [
    "#ML final project\n",
    "#Yu Zhou, Che Wang\n",
    "\n",
    "#this one is test file for adding in the training history recordings.\n",
    "\n",
    "from keras.datasets import cifar10\n",
    "from keras.preprocessing.image import ImageDataGenerator\n",
    "from keras.models import Sequential\n",
    "from keras.layers.core import Dense, Dropout, Activation, Flatten\n",
    "from keras.layers.convolutional import Conv2D, MaxPooling2D\n",
    "from keras.optimizers import SGD\n",
    "from keras.utils import np_utils\n",
    "import numpy as np\n",
    "import keras\n",
    "from keras import backend as K\n",
    "import matplotlib.image as mpimg\n",
    "from glob import glob\n",
    "from keras.preprocessing.image import ImageDataGenerator, array_to_img, img_to_array, load_img\n",
    "\n",
    "# A bit of magic to make matplotlib figures appear inline in the notebook\n",
    "# rather than in a new window.\n",
    "%matplotlib inline \n",
    "import matplotlib.pyplot as plt\n",
    "from scipy import ndimage\n",
    "from scipy import misc\n",
    "\"\"\"datagen = ImageDataGenerator(\n",
    "        rotation_range=40,\n",
    "        width_shift_range=0.2,\n",
    "        height_shift_range=0.2,\n",
    "        shear_range=0.2,\n",
    "        zoom_range=0.2,\n",
    "        horizontal_flip=True,\n",
    "        fill_mode='nearest')\"\"\"\n",
    "#don't worry about data augmentation for now...\n",
    "#data preprocessing is done in another file\n",
    "print()"
   ]
  },
  {
   "cell_type": "code",
   "execution_count": 3,
   "metadata": {
    "scrolled": true
   },
   "outputs": [
    {
     "name": "stdout",
     "output_type": "stream",
     "text": [
      "reading img, 0 200\n",
      "reading img, 0 400\n",
      "reading img, 0 600\n",
      "reading img, 0 800\n",
      "reading img, 0 1000\n",
      "reading img, 0 1200\n",
      "reading img, 0 1400\n",
      "reading img, 0 1600\n",
      "reading img, 0 1800\n",
      "reading img, 1 200\n",
      "reading img, 1 400\n",
      "reading img, 1 600\n",
      "reading img, 1 800\n",
      "reading img, 1 1000\n",
      "reading img, 1 1200\n",
      "reading img, 1 1400\n",
      "reading img, 1 1600\n",
      "reading img, 1 1800\n",
      "reading img, 2 200\n",
      "reading img, 2 400\n",
      "reading img, 2 600\n",
      "reading img, 2 800\n",
      "reading img, 2 1000\n",
      "reading img, 2 1200\n",
      "reading img, 2 1400\n",
      "reading img, 2 1600\n",
      "reading img, 2 1800\n",
      "reading img, 3 200\n",
      "reading img, 3 400\n",
      "reading img, 3 600\n",
      "reading img, 3 800\n",
      "reading img, 3 1000\n",
      "reading img, 3 1200\n",
      "reading img, 3 1400\n",
      "reading img, 3 1600\n",
      "reading img, 3 1800\n",
      "reading img, 4 200\n",
      "reading img, 4 400\n",
      "reading img, 4 600\n",
      "reading img, 4 800\n",
      "reading img, 4 1000\n",
      "reading img, 4 1200\n",
      "reading img, 4 1400\n",
      "reading img, 4 1600\n",
      "reading img, 4 1800\n",
      "reading img, 5 200\n",
      "reading img, 5 400\n",
      "reading img, 5 600\n",
      "reading img, 5 800\n",
      "reading img, 5 1000\n",
      "reading img, 5 1200\n",
      "reading img, 5 1400\n",
      "reading img, 5 1600\n",
      "reading img, 5 1800\n",
      "reading img, 6 200\n",
      "reading img, 6 400\n",
      "reading img, 6 600\n",
      "reading img, 6 800\n",
      "reading img, 6 1000\n",
      "reading img, 6 1200\n",
      "reading img, 6 1400\n",
      "reading img, 6 1600\n",
      "reading img, 6 1800\n",
      "reading img, 7 200\n",
      "reading img, 7 400\n",
      "reading img, 7 600\n",
      "reading img, 7 800\n",
      "reading img, 7 1000\n",
      "reading img, 7 1200\n",
      "reading img, 7 1400\n",
      "reading img, 7 1600\n",
      "reading img, 7 1800\n",
      "reading img, 8 200\n",
      "reading img, 8 400\n",
      "reading img, 8 600\n",
      "reading img, 8 800\n",
      "reading img, 8 1000\n",
      "reading img, 8 1200\n",
      "reading img, 8 1400\n",
      "reading img, 8 1600\n",
      "reading img, 8 1800\n",
      "reading img, 9 200\n",
      "reading img, 9 400\n",
      "reading img, 9 600\n",
      "reading img, 9 800\n",
      "reading img, 9 1000\n",
      "reading img, 9 1200\n",
      "reading img, 9 1400\n",
      "reading img, 9 1600\n",
      "reading img, 9 1800\n",
      "y_train 15000\n",
      "y_test 4000\n",
      "(15000, 64, 64, 3) (4000, 64, 64, 3)\n",
      "(15000, 10) (4000, 10)\n",
      "data read and normalization finished!\n"
     ]
    }
   ],
   "source": [
    "\n",
    "globPaths = ['data/c0small/*.jpg','data/c1small/*.jpg','data/c2small/*.jpg','data/c3small/*.jpg','data/c4small/*.jpg',\n",
    "            'data/c5small/*.jpg','data/c6small/*.jpg','data/c7small/*.jpg',\n",
    "            'data/c8small/*.jpg','data/c9small/*.jpg']\n",
    "num_classes = 10\n",
    "numTrain = 1500\n",
    "\n",
    "X_train = np.empty((15000,64,64,3))\n",
    "X_test = np.empty((4000,64,64,3))\n",
    "y_train = np.empty((15000))\n",
    "y_test = np.empty((4000))\n",
    "\n",
    "i = 0\n",
    "j = 0\n",
    "\n",
    "#now only set data to two class \n",
    "for folderIndex in range(10):\n",
    "    index = 0\n",
    "    filelist = glob(globPaths[folderIndex])\n",
    "    for filename in filelist:\n",
    "        newImg = misc.imread(filename)\n",
    "        if index<numTrain:\n",
    "            X_train[i] = newImg\n",
    "            y_train[i] = folderIndex\n",
    "            i+=1\n",
    "        else:\n",
    "            X_test[j] = newImg\n",
    "            y_test[j] = folderIndex\n",
    "            j+=1\n",
    "        index+=1\n",
    "        if index%200==0:\n",
    "            print(\"reading img,\",folderIndex,index)\n",
    "        \n",
    "        \n",
    "X_train = X_train.astype('float32')\n",
    "X_test = X_test.astype('float32')\n",
    "#then data normalization\n",
    "X_train /= 255\n",
    "X_test /= 255\n",
    "\n",
    "\n",
    "print(\"y_train\",y_train.shape[0])\n",
    "print(\"y_test\",y_test.shape[0])\n",
    "\n",
    "Y_train = np_utils.to_categorical(y_train, num_classes)\n",
    "Y_test = np_utils.to_categorical(y_test, num_classes)\n",
    "\n",
    "print(X_train.shape,X_test.shape)\n",
    "print(Y_train.shape,Y_test.shape)\n",
    "print(\"data read and normalization finished!\")\n",
    "\n"
   ]
  },
  {
   "cell_type": "code",
   "execution_count": 4,
   "metadata": {
    "collapsed": true
   },
   "outputs": [],
   "source": [
    "#here we can save x and y as numpy files so it's easier to use them again\n",
    "#np.save(\"X_train.npy\",X_train)\n",
    "#np.save(\"X_test.npy\",X_test)\n",
    "#np.save(\"Y_train.npy\",Y_train)\n",
    "#np.save(\"Y_test.npy\",Y_test)\n",
    "#print(\"Successfully save data to numpy files!\")"
   ]
  },
  {
   "cell_type": "code",
   "execution_count": 5,
   "metadata": {},
   "outputs": [
    {
     "name": "stdout",
     "output_type": "stream",
     "text": [
      "model building and compiling finished!\n"
     ]
    }
   ],
   "source": [
    "# input image dimensions\n",
    "img_rows, img_cols = 64, 64\n",
    "img_channels = 3\n",
    "#the later are about training...\n",
    "\n",
    "input_shape = (img_rows, img_cols, img_channels)\n",
    "\n",
    "model = Sequential()\n",
    "\n",
    "model.add(Conv2D(32, kernel_size=(3, 3),padding= 'same',\n",
    "                 activation='relu',\n",
    "                 input_shape=input_shape))\n",
    "model.add(Conv2D(32, (3, 3), activation='relu'))\n",
    "model.add(MaxPooling2D(pool_size=(2, 2)))\n",
    "model.add(Dropout(0.25))\n",
    "model.add(Conv2D(64, (3, 3), activation='relu'))\n",
    "model.add(MaxPooling2D(pool_size=(2, 2)))\n",
    "model.add(Dropout(0.25))\n",
    "model.add(Conv2D(128, (3, 3), activation='relu'))\n",
    "model.add(MaxPooling2D(pool_size=(2, 2)))\n",
    "model.add(Dropout(0.5))\n",
    "\n",
    "model.add(Flatten())\n",
    "model.add(Dense(128, activation='relu'))\n",
    "model.add(Dropout(0.25))\n",
    "model.add(Dense(num_classes, activation='softmax'))\n",
    "\n",
    "# initiate RMSprop optimizer\n",
    "opt = keras.optimizers.rmsprop(lr=0.001, decay=1e-6)\n",
    "\n",
    "model.compile(loss=keras.losses.categorical_crossentropy,\n",
    "              optimizer=opt, #keras.optimizers.Adadelta(0.01),\n",
    "              metrics=['accuracy'])\n",
    "print(\"model building and compiling finished!\")\n"
   ]
  },
  {
   "cell_type": "code",
   "execution_count": 6,
   "metadata": {
    "collapsed": true
   },
   "outputs": [],
   "source": [
    "#from keras.utils import plot_model\n",
    "#plot the model as png\n",
    "#plot_model(model, to_file='model.png',show_shapes=True)"
   ]
  },
  {
   "cell_type": "code",
   "execution_count": 11,
   "metadata": {
    "scrolled": true
   },
   "outputs": [
    {
     "name": "stdout",
     "output_type": "stream",
     "text": [
      "Train on 100 samples, validate on 100 samples\n",
      "Epoch 1/10\n",
      "100/100 [==============================] - 4s - loss: 9.0081e-06 - acc: 1.0000 - val_loss: 2.5790e-04 - val_acc: 1.0000\n",
      "Epoch 2/10\n",
      "100/100 [==============================] - 4s - loss: 1.4365e-06 - acc: 1.0000 - val_loss: 2.3311e-04 - val_acc: 1.0000\n",
      "Epoch 3/10\n",
      "100/100 [==============================] - 3s - loss: 1.5533e-06 - acc: 1.0000 - val_loss: 2.0069e-04 - val_acc: 1.0000\n",
      "Epoch 4/10\n",
      "100/100 [==============================] - 3s - loss: 1.2887e-06 - acc: 1.0000 - val_loss: 1.7272e-04 - val_acc: 1.0000\n",
      "Epoch 5/10\n",
      "100/100 [==============================] - 5s - loss: 8.6427e-07 - acc: 1.0000 - val_loss: 1.4559e-04 - val_acc: 1.0000\n",
      "Epoch 6/10\n",
      "100/100 [==============================] - 3s - loss: 1.1343e-06 - acc: 1.0000 - val_loss: 1.1739e-04 - val_acc: 1.0000\n",
      "Epoch 7/10\n",
      "100/100 [==============================] - 4s - loss: 4.3988e-07 - acc: 1.0000 - val_loss: 1.0428e-04 - val_acc: 1.0000\n",
      "Epoch 8/10\n",
      "100/100 [==============================] - 3s - loss: 6.3837e-07 - acc: 1.0000 - val_loss: 8.4281e-05 - val_acc: 1.0000\n",
      "Epoch 9/10\n",
      "100/100 [==============================] - 3s - loss: 3.5822e-07 - acc: 1.0000 - val_loss: 7.3024e-05 - val_acc: 1.0000\n",
      "Epoch 10/10\n",
      "100/100 [==============================] - 4s - loss: 4.6194e-07 - acc: 1.0000 - val_loss: 5.8489e-05 - val_acc: 1.0000\n",
      "Test loss: 5.848855566e-05\n",
      "Test accuracy: 1.0\n",
      "<keras.callbacks.History object at 0x7fdc0bc70dd8>\n"
     ]
    }
   ],
   "source": [
    "\n",
    "#only use a small amount of data for \n",
    "X_train = X_train[:100,:]\n",
    "Y_train = Y_train[:100,:]\n",
    "X_test = X_test[:100,:]\n",
    "Y_test = Y_test[:100,:]\n",
    "\n",
    "batch_size = 32 \n",
    "nb_training_stages = 1 #at the end of each stage, we save the model\n",
    "nb_epoch = 10\n",
    "RESUME = False\n",
    "resume_filepath = 'keras_cnn_model_historytest.h5'\n",
    "saveNamePrefix = 'keras_cnn_model_historyTest_'\n",
    "if RESUME:\n",
    "    print('model resumed! filepath: '+resume_filepath)\n",
    "    model = keras.models.load_model(resume_filepath)\n",
    "\n",
    "#score = model.evaluate(X_test[:150], Y_test[:150], verbose=0)\n",
    "#print('Original test loss estimate:', score[0])\n",
    "#print('Original test accuracy estimate:', score[1])\n",
    "history = 0\n",
    "for stage in range(nb_training_stages):\n",
    "    history = model.fit(X_train, Y_train,\n",
    "          batch_size=batch_size,\n",
    "          epochs=nb_epoch,\n",
    "          verbose=1,\n",
    "          validation_data=(X_test, Y_test))\n",
    "\n",
    "    pred = model.predict(X_train,batch_size=10)\n",
    "    score = model.evaluate(X_test, Y_test, verbose=0)\n",
    "    print('Test loss:', score[0])\n",
    "    print('Test accuracy:', score[1])\n",
    "    print(history)\n",
    "#model.load(filename)\n",
    "\n",
    "\n"
   ]
  },
  {
   "cell_type": "code",
   "execution_count": 12,
   "metadata": {},
   "outputs": [
    {
     "name": "stdout",
     "output_type": "stream",
     "text": [
      "{'val_acc': [1.0, 1.0, 1.0, 1.0, 1.0, 1.0, 1.0, 1.0, 1.0, 1.0], 'loss': [9.0080961399507935e-06, 1.4364789967657999e-06, 1.5533062196482206e-06, 1.2886593754046771e-06, 8.6426921370730274e-07, 1.1342843845341123e-06, 4.398827888962842e-07, 6.3836747585810374e-07, 3.5822471545543521e-07, 4.6193741695788051e-07], 'acc': [1.0, 1.0, 1.0, 1.0, 1.0, 1.0, 1.0, 1.0, 1.0, 1.0], 'val_loss': [0.00025789877749048172, 0.00023311032215133308, 0.00020068634650669993, 0.00017271965567488222, 0.00014558865572325886, 0.00011738914647139608, 0.00010427997796796262, 8.4281045419629661e-05, 7.3023987933993343e-05, 5.8488555660005658e-05]}\n"
     ]
    }
   ],
   "source": [
    "for i in range(10):\n",
    "    "
   ]
  },
  {
   "cell_type": "code",
   "execution_count": 14,
   "metadata": {},
   "outputs": [
    {
     "name": "stdout",
     "output_type": "stream",
     "text": [
      "[1.0, 1.0, 1.0, 1.0, 1.0, 1.0, 1.0, 1.0, 1.0, 1.0]\n"
     ]
    },
    {
     "data": {
      "image/png": "[encoded data removed]",
      "text/plain": [
       "<matplotlib.figure.Figure at 0x7fdc0bc70f60>"
      ]
     },
     "metadata": {},
     "output_type": "display_data"
    },
    {
     "data": {
      "image/png": "[encoded data removed]",
      "text/plain": [
       "<matplotlib.figure.Figure at 0x7fdc0bc922e8>"
      ]
     },
     "metadata": {},
     "output_type": "display_data"
    }
   ],
   "source": [
    "print(history.history['val_acc'])\n",
    "import matplotlib.pyplot as plt\n",
    "plt.plot(history.history['acc'])\n",
    "plt.plot(history.history['val_acc'])\n",
    "plt.title('model accuracy')\n",
    "plt.ylabel('accuracy')\n",
    "plt.xlabel('epoch')\n",
    "plt.legend(['train', 'test'], loc='upper left')\n",
    "plt.show()\n",
    "# summarize history for loss\n",
    "plt.plot(history.history['loss'])\n",
    "plt.plot(history.history['val_loss'])\n",
    "plt.title('model loss')\n",
    "plt.ylabel('loss')\n",
    "plt.xlabel('epoch')\n",
    "plt.legend(['train', 'test'], loc='upper left')\n",
    "plt.show()"
   ]
  },
  {
   "cell_type": "code",
   "execution_count": 22,
   "metadata": {},
   "outputs": [
    {
     "name": "stdout",
     "output_type": "stream",
     "text": [
      "10\n"
     ]
    }
   ],
   "source": [
    "def writeHistoryToFile(his,filename):\n",
    "    hisFile = open(filename, \"w\")\n",
    "    hisFile.write(\"epoch acc val_acc loss val_loss\\n\")\n",
    "    hisData = his.history\n",
    "    acc = hisData['acc']\n",
    "    loss = hisData['loss']\n",
    "    val_acc = hisData['val_acc']\n",
    "    val_loss = hisData['val_loss']\n",
    "    n = len(acc)\n",
    "    print(n)\n",
    "    for i in range(n):\n",
    "        ss = \" \".join([str(i),str(acc[i]),str(val_acc[i]),str(loss[i]),str(val_loss[i]),\"\\n\"])\n",
    "        hisFile.write(ss)\n",
    "writeHistoryToFile(history,\"testfile.txt\")"
   ]
  },
  {
   "cell_type": "code",
   "execution_count": null,
   "metadata": {
    "collapsed": true
   },
   "outputs": [],
   "source": []
  }
 ],
 "metadata": {
  "kernelspec": {
   "display_name": "Python 3",
   "language": "python",
   "name": "python3"
  },
  "language_info": {
   "codemirror_mode": {
    "name": "ipython",
    "version": 3
   },
   "file_extension": ".py",
   "mimetype": "text/x-python",
   "name": "python",
   "nbconvert_exporter": "python",
   "pygments_lexer": "ipython3",
   "version": "3.5.3"
  }
 },
 "nbformat": 4,
 "nbformat_minor": 2
}
