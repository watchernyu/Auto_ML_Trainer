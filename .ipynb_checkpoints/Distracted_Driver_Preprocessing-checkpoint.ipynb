{
 "cells": [
  {
   "cell_type": "code",
   "execution_count": 2,
   "metadata": {
    "collapsed": true
   },
   "outputs": [],
   "source": [
    "#ML final project\n",
    "#Yu Zhou, Che Wang\n",
    "#this is used only for image preprocessing\n",
    "\n",
    "import numpy as np\n",
    "\n",
    "%matplotlib inline \n",
    "import matplotlib.pyplot as plt\n",
    "import matplotlib.image as mpimg\n",
    "\n",
    "from scipy import ndimage\n",
    "from scipy import misc\n",
    "\n",
    "from glob import glob"
   ]
  },
  {
   "cell_type": "code",
   "execution_count": 7,
   "metadata": {},
   "outputs": [
    {
     "name": "stdout",
     "output_type": "stream",
     "text": [
      "100\n",
      "200\n",
      "300\n",
      "400\n",
      "500\n",
      "600\n",
      "700\n",
      "800\n",
      "900\n",
      "1000\n",
      "1100\n",
      "1200\n",
      "1300\n",
      "100\n",
      "200\n",
      "300\n",
      "400\n",
      "500\n",
      "600\n",
      "700\n",
      "800\n",
      "900\n",
      "1000\n",
      "1100\n",
      "1200\n",
      "1300\n"
     ]
    }
   ],
   "source": [
    "globPaths = ['data/c0big/*.jpg','data/c1big/*.jpg']\n",
    "savePaths = ['data/c0small/','data/c1small/']\n",
    "writeLimit = 100 #read every 100 images, then write to disk\n",
    "\n",
    "for folderIndex in range(2):\n",
    "    filelist = glob(globPaths[folderIndex])\n",
    "    processedImages = []\n",
    "    i = 0\n",
    "    for filename in filelist:\n",
    "        newImg = misc.imread(filename)\n",
    "        newImg = misc.imresize(newImg,(64,64))\n",
    "        misc.imsave(savePaths[folderIndex]+str(i)+'.jpg', newImg)\n",
    "        i+=1\n",
    "        if i%100==0:\n",
    "            print(folderIndex,i)\n",
    "\n",
    "#by now we finished creating small images"
   ]
  },
  {
   "cell_type": "code",
   "execution_count": null,
   "metadata": {
    "collapsed": true
   },
   "outputs": [],
   "source": []
  }
 ],
 "metadata": {
  "kernelspec": {
   "display_name": "Python 3",
   "language": "python",
   "name": "python3"
  },
  "language_info": {
   "codemirror_mode": {
    "name": "ipython",
    "version": 3
   },
   "file_extension": ".py",
   "mimetype": "text/x-python",
   "name": "python",
   "nbconvert_exporter": "python",
   "pygments_lexer": "ipython3",
   "version": "3.5.3"
  }
 },
 "nbformat": 4,
 "nbformat_minor": 2
}
