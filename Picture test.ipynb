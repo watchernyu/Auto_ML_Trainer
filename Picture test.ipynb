{
 "cells": [
  {
   "cell_type": "code",
   "execution_count": null,
   "metadata": {
    "collapsed": true
   },
   "outputs": [],
   "source": [
    "#function for single image last layer probability print out\n",
    "#return a list of index and a list of probability values\n",
    "\n",
    "def singlepicprob(X_test,index):\n",
    "    pred = model.predict(X_test[i], batch_size = 32, verbose = 1 )\n",
    "    ind = np.zeros(10)\n",
    "    val = np.zeros(10)\n",
    "    for i in range(10):\n",
    "        idx = np.argmax(pred)\n",
    "        ind[i] = inx\n",
    "        val[i] = pred[idx]\n",
    "        pred[idx] = 0\n",
    "    return ind, val\n",
    "\n",
    "#a function that returns the classification with the input of index\n",
    "def classification(n):\n",
    "    s = ''\n",
    "    if (n == 0) :\n",
    "        s += 'Driving'\n",
    "    elif (n == 1):\n",
    "        s += 'Playing phone with right hand'\n",
    "    elif ( n == 2):\n",
    "        s += 'Answering phone with right hand'\n",
    "    elif ( n == 3):\n",
    "        s += 'Playing phone with left hand'\n",
    "    elif ( n == 4):\n",
    "        s += 'Answering phone with left hand'\n",
    "    elif ( n == 5):\n",
    "        s += 'Right hand off the wheel'\n",
    "    elif ( n == 6):\n",
    "        s += 'Drinking with right hand'\n",
    "    elif ( n == 7):\n",
    "        s += 'Fetching things in the backseat'\n",
    "    elif ( n == 8):\n",
    "        s += 'Right hand touching face or hair'\n",
    "    elif ( n == 9):\n",
    "        s += 'Head turned and talking to people in front passenger seat'\n",
    "    return s\n",
    "\n",
    "#functions takes in index and values to print the first n classification output\n",
    "def finaloutput(ind, val, n):\n",
    "    for i in range(n):\n",
    "        s = classification(ind[i])\n",
    "        s += ' , '\n",
    "        s += str(val[i])\n",
    "        print(s)\n",
    "\n",
    "rn = np.random.randint(0,len(X_test))\n",
    "p = 3\n",
    "ind, val = singlepicpro(X_test, rn)\n",
    "finaloutput(ind, val, p)"
   ]
  }
 ],
 "metadata": {
  "kernelspec": {
   "display_name": "Python 3",
   "language": "python",
   "name": "python3"
  },
  "language_info": {
   "codemirror_mode": {
    "name": "ipython",
    "version": 3
   },
   "file_extension": ".py",
   "mimetype": "text/x-python",
   "name": "python",
   "nbconvert_exporter": "python",
   "pygments_lexer": "ipython3",
   "version": "3.5.3"
  }
 },
 "nbformat": 4,
 "nbformat_minor": 1
}
