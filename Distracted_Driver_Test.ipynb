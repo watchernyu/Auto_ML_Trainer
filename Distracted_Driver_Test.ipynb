{
 "cells": [
  {
   "cell_type": "code",
   "execution_count": 2,
   "metadata": {
    "collapsed": false
   },
   "outputs": [
    {
     "name": "stderr",
     "output_type": "stream",
     "text": [
      "Using TensorFlow backend.\n"
     ]
    },
    {
     "name": "stdout",
     "output_type": "stream",
     "text": [
      "\n"
     ]
    }
   ],
   "source": [
    "#ML final project\n",
    "#Yu Zhou, Che Wang\n",
    "\n",
    "from keras.datasets import cifar10\n",
    "from keras.preprocessing.image import ImageDataGenerator\n",
    "from keras.models import Sequential\n",
    "from keras.layers.core import Dense, Dropout, Activation, Flatten\n",
    "from keras.layers.convolutional import Conv2D, MaxPooling2D\n",
    "from keras.optimizers import SGD\n",
    "from keras.utils import np_utils\n",
    "import numpy as np\n",
    "import keras\n",
    "from keras import backend as K\n",
    "import matplotlib.image as mpimg\n",
    "from glob import glob\n",
    "from keras.preprocessing.image import ImageDataGenerator, array_to_img, img_to_array, load_img\n",
    "\n",
    "# A bit of magic to make matplotlib figures appear inline in the notebook\n",
    "# rather than in a new window.\n",
    "%matplotlib inline \n",
    "import matplotlib.pyplot as plt\n",
    "from scipy import ndimage\n",
    "from scipy import misc\n",
    "\"\"\"datagen = ImageDataGenerator(\n",
    "        rotation_range=40,\n",
    "        width_shift_range=0.2,\n",
    "        height_shift_range=0.2,\n",
    "        shear_range=0.2,\n",
    "        zoom_range=0.2,\n",
    "        horizontal_flip=True,\n",
    "        fill_mode='nearest')\"\"\"\n",
    "#don't worry about data augmentation for now...\n",
    "#data preprocessing is done in another file\n",
    "print()"
   ]
  },
  {
   "cell_type": "code",
   "execution_count": 14,
   "metadata": {
    "collapsed": false
   },
   "outputs": [
    {
     "name": "stdout",
     "output_type": "stream",
     "text": [
      "reading img, 0 200\n",
      "reading img, 0 400\n",
      "reading img, 0 600\n",
      "reading img, 0 800\n",
      "reading img, 0 1000\n",
      "reading img, 0 1200\n",
      "reading img, 0 1400\n",
      "reading img, 0 1600\n",
      "reading img, 0 1800\n",
      "reading img, 1 200\n",
      "reading img, 1 400\n",
      "reading img, 1 600\n",
      "reading img, 1 800\n",
      "reading img, 1 1000\n",
      "reading img, 1 1200\n",
      "reading img, 1 1400\n",
      "reading img, 1 1600\n",
      "reading img, 1 1800\n",
      "reading img, 2 200\n",
      "reading img, 2 400\n",
      "reading img, 2 600\n",
      "reading img, 2 800\n",
      "reading img, 2 1000\n",
      "reading img, 2 1200\n",
      "reading img, 2 1400\n",
      "reading img, 2 1600\n",
      "reading img, 2 1800\n",
      "reading img, 3 200\n",
      "reading img, 3 400\n",
      "reading img, 3 600\n",
      "reading img, 3 800\n",
      "reading img, 3 1000\n",
      "reading img, 3 1200\n",
      "reading img, 3 1400\n",
      "reading img, 3 1600\n",
      "reading img, 3 1800\n",
      "reading img, 4 200\n",
      "reading img, 4 400\n",
      "reading img, 4 600\n",
      "reading img, 4 800\n",
      "reading img, 4 1000\n",
      "reading img, 4 1200\n",
      "reading img, 4 1400\n",
      "reading img, 4 1600\n",
      "reading img, 4 1800\n",
      "reading img, 5 200\n",
      "reading img, 5 400\n",
      "reading img, 5 600\n",
      "reading img, 5 800\n",
      "reading img, 5 1000\n",
      "reading img, 5 1200\n",
      "reading img, 5 1400\n",
      "reading img, 5 1600\n",
      "reading img, 5 1800\n",
      "reading img, 6 200\n",
      "reading img, 6 400\n",
      "reading img, 6 600\n",
      "reading img, 6 800\n",
      "reading img, 6 1000\n",
      "reading img, 6 1200\n",
      "reading img, 6 1400\n",
      "reading img, 6 1600\n",
      "reading img, 6 1800\n",
      "reading img, 7 200\n",
      "reading img, 7 400\n",
      "reading img, 7 600\n",
      "reading img, 7 800\n",
      "reading img, 7 1000\n",
      "reading img, 7 1200\n",
      "reading img, 7 1400\n",
      "reading img, 7 1600\n",
      "reading img, 7 1800\n",
      "reading img, 8 200\n",
      "reading img, 8 400\n",
      "reading img, 8 600\n",
      "reading img, 8 800\n",
      "reading img, 8 1000\n",
      "reading img, 8 1200\n",
      "reading img, 8 1400\n",
      "reading img, 8 1600\n",
      "reading img, 8 1800\n",
      "reading img, 9 200\n",
      "reading img, 9 400\n",
      "reading img, 9 600\n",
      "reading img, 9 800\n",
      "reading img, 9 1000\n",
      "reading img, 9 1200\n",
      "reading img, 9 1400\n",
      "reading img, 9 1600\n",
      "reading img, 9 1800\n",
      "y_train 15000\n",
      "y_test 4000\n",
      "(15000, 64, 64, 3) (4000, 64, 64, 3)\n",
      "(15000,) (4000,)\n",
      "data read and normalization finished!\n"
     ]
    }
   ],
   "source": [
    "\n",
    "globPaths = ['data/c0small/*.jpg','data/c1small/*.jpg','data/c2small/*.jpg','data/c3small/*.jpg','data/c4small/*.jpg',\n",
    "            'data/c5small/*.jpg','data/c6small/*.jpg','data/c7small/*.jpg',\n",
    "            'data/c8small/*.jpg','data/c9small/*.jpg']\n",
    "num_classes = 10\n",
    "numTrain = 1500\n",
    "\n",
    "X_train = np.empty((15000,64,64,3))\n",
    "X_test = np.empty((4000,64,64,3))\n",
    "y_train = np.empty((15000))\n",
    "y_test = np.empty((4000))\n",
    "\n",
    "i = 0\n",
    "j = 0\n",
    "\n",
    "for folderIndex in range(10):\n",
    "    index = 0\n",
    "    filelist = glob(globPaths[folderIndex])\n",
    "    for filename in filelist:\n",
    "        newImg = misc.imread(filename)\n",
    "        if index<numTrain:\n",
    "            X_train[i] = newImg\n",
    "            y_train[i] = folderIndex\n",
    "            i+=1\n",
    "        else:\n",
    "            X_test[j] = newImg\n",
    "            y_test[j] = folderIndex\n",
    "            j+=1\n",
    "        index+=1\n",
    "        if index%200==0:\n",
    "            print(\"reading img,\",folderIndex,index)\n",
    "        \n",
    "        \n",
    "X_train = X_train.astype('float32')\n",
    "X_test = X_test.astype('float32')\n",
    "#then data normalization\n",
    "X_train /= 255\n",
    "X_test /= 255\n",
    "\n",
    "print(\"y_train\",y_train.shape[0])\n",
    "print(\"y_test\",y_test.shape[0])\n",
    "\n",
    "Y_train = np_utils.to_categorical(y_train, num_classes)\n",
    "Y_test = np_utils.to_categorical(y_test, num_classes)\n",
    "\n",
    "print(X_train.shape,X_test.shape)\n",
    "print(y_train.shape,y_test.shape)\n",
    "print(\"data read and normalization finished!\")\n",
    "\n"
   ]
  },
  {
   "cell_type": "code",
   "execution_count": 15,
   "metadata": {
    "collapsed": false
   },
   "outputs": [
    {
     "name": "stdout",
     "output_type": "stream",
     "text": [
      "model building and compiling finished!\n"
     ]
    }
   ],
   "source": [
    "# input image dimensions\n",
    "img_rows, img_cols = 64, 64\n",
    "img_channels = 3\n",
    "#the later are about training...\n",
    "\n",
    "input_shape = (img_rows, img_cols, img_channels)\n",
    "\n",
    "model = Sequential()\n",
    "model.add(Conv2D(32, kernel_size=(3, 3),padding= 'same',\n",
    "                 activation='relu',\n",
    "                 input_shape=input_shape))\n",
    "model.add(Conv2D(32, (3, 3), activation='relu'))\n",
    "model.add(MaxPooling2D(pool_size=(2, 2)))\n",
    "model.add(Dropout(0.25))\n",
    "model.add(Conv2D(64, (3, 3), activation='relu'))\n",
    "model.add(MaxPooling2D(pool_size=(2, 2)))\n",
    "model.add(Dropout(0.25))\n",
    "model.add(Conv2D(128, (3, 3), activation='relu'))\n",
    "model.add(MaxPooling2D(pool_size=(2, 2)))\n",
    "model.add(Dropout(0.5))\n",
    "\n",
    "model.add(Flatten())\n",
    "model.add(Dense(128, activation='relu'))\n",
    "model.add(Dropout(0.25))\n",
    "model.add(Dense(num_classes, activation='softmax'))\n",
    "\n",
    "# initiate RMSprop optimizer\n",
    "opt = keras.optimizers.rmsprop(lr=0.001, decay=1e-6)\n",
    "\n",
    "model.compile(loss=keras.losses.categorical_crossentropy,\n",
    "              optimizer=opt, #keras.optimizers.Adadelta(0.01),\n",
    "              metrics=['accuracy'])\n",
    "print(\"model building and compiling finished!\")\n"
   ]
  },
  {
   "cell_type": "code",
   "execution_count": 16,
   "metadata": {
    "collapsed": false
   },
   "outputs": [
    {
     "name": "stdout",
     "output_type": "stream",
     "text": [
      "Train on 15000 samples, validate on 4000 samples\n",
      "Epoch 1/5\n",
      "15000/15000 [==============================] - 674s - loss: 1.4187 - acc: 0.4813 - val_loss: 0.5449 - val_acc: 0.7990\n",
      "Epoch 2/5\n",
      "15000/15000 [==============================] - 642s - loss: 0.5981 - acc: 0.7644 - val_loss: 0.3223 - val_acc: 0.8510\n",
      "Epoch 3/5\n",
      "15000/15000 [==============================] - 632s - loss: 0.4121 - acc: 0.8193 - val_loss: 0.2509 - val_acc: 0.8725\n",
      "Epoch 4/5\n",
      "15000/15000 [==============================] - 661s - loss: 0.3517 - acc: 0.8394 - val_loss: 0.2426 - val_acc: 0.8732\n",
      "Epoch 5/5\n",
      "15000/15000 [==============================] - 627s - loss: 0.3106 - acc: 0.8536 - val_loss: 0.2199 - val_acc: 0.8808\n",
      "Test loss: 0.219861876066\n",
      "Test accuracy: 0.88075\n"
     ]
    }
   ],
   "source": [
    "batch_size = 32 \n",
    "nb_epoch = 5\n",
    "model.fit(X_train, Y_train,\n",
    "          batch_size=batch_size,\n",
    "          epochs=nb_epoch,\n",
    "          verbose=1,\n",
    "          validation_data=(X_test, Y_test))\n",
    "\n",
    "pred = model.predict(X_train,batch_size=10)\n",
    "score = model.evaluate(X_test, Y_test, verbose=0)\n",
    "print('Test loss:', score[0])\n",
    "print('Test accuracy:', score[1])\n",
    "model.save('keras_cnn_model.h5')"
   ]
  },
  {
   "cell_type": "code",
   "execution_count": null,
   "metadata": {
    "collapsed": true
   },
   "outputs": [],
   "source": []
  },
  {
   "cell_type": "code",
   "execution_count": null,
   "metadata": {
    "collapsed": true
   },
   "outputs": [],
   "source": []
  }
 ],
 "metadata": {
  "kernelspec": {
   "display_name": "Python 3",
   "language": "python",
   "name": "python3"
  },
  "language_info": {
   "codemirror_mode": {
    "name": "ipython",
    "version": 3
   },
   "file_extension": ".py",
   "mimetype": "text/x-python",
   "name": "python",
   "nbconvert_exporter": "python",
   "pygments_lexer": "ipython3",
   "version": "3.4.4"
  }
 },
 "nbformat": 4,
 "nbformat_minor": 2
}
